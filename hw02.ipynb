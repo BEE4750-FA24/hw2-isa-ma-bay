{
  "cells": [
    {
      "cell_type": "markdown",
      "id": "03556360-56ea-4722-a4c4-e18e12dd3cc3",
      "metadata": {},
      "source": [
        "# BEE 4750 Homework 2: Systems Modeling and Simulation\n",
        "\n",
        "**Name**: Badyn Milstein-Touesnard, Isabel Camara, Mateo Aranzazu\n",
        "\n",
        "**ID**: 5286287, 5273977, 5355552\n",
        "\n",
        "**NetID:**: bmm98, ic277 , ma956\n",
        "\n",
        "> **Due Date**\n",
        ">\n",
        "> Thursday, 09/19/24, 9:00pm\n",
        "\n",
        "## Overview\n",
        "\n",
        "### Instructions\n",
        "\n",
        "-   Problem 1 asks you to derive a model for water quality in a river\n",
        "    system and use this model to check for regulatory compliance.\n",
        "-   Problem 2 asks you to explore the dynamics and equilibrium stability\n",
        "    of the shallow lake model under a particular set of parameter\n",
        "    values.\n",
        "\n",
        "### Load Environment\n",
        "\n",
        "The following code loads the environment and makes sure all needed\n",
        "packages are installed. This should be at the start of most Julia\n",
        "scripts."
      ]
    },
    {
      "cell_type": "code",
      "execution_count": 8,
      "id": "2",
      "metadata": {},
      "outputs": [
        {
          "name": "stderr",
          "output_type": "stream",
          "text": [
            "\u001b[32m\u001b[1m  Activating\u001b[22m\u001b[39m project at `~/bee4750/homework/hw2-isa-ma-bay`\n"
          ]
        }
      ],
      "source": [
        "import Pkg\n",
        "Pkg.activate(@__DIR__)\n",
        "Pkg.instantiate()"
      ]
    },
    {
      "cell_type": "code",
      "execution_count": 9,
      "id": "4",
      "metadata": {},
      "outputs": [],
      "source": [
        "using Plots\n",
        "using LaTeXStrings\n",
        "using CSV\n",
        "using DataFrames\n",
        "using Roots"
      ]
    },
    {
      "cell_type": "markdown",
      "id": "0e19c1f0-6555-4982-9dcd-0475b45d6b50",
      "metadata": {},
      "source": [
        "## Problems (Total: 50/60 Points)"
      ]
    },
    {
      "cell_type": "markdown",
      "id": "bff6d334-618c-48ba-b61c-7f30ebfec859",
      "metadata": {},
      "source": [
        "### Problem 1 (25 points)\n",
        "\n",
        "A river which flows at 10 km/d is receiving discharges of wastewater\n",
        "contaminated with CRUD from two sources which are 15 km apart, as shown\n",
        "in the Figure below. CRUD decays exponentially in the river at a rate of\n",
        "0.36 $\\mathrm{d}^{-1}$."
      ]
    },
    {
      "cell_type": "markdown",
      "id": "35c816c1-cc2a-42dc-a0f0-92569c04734f",
      "metadata": {},
      "source": [
        "<figure>\n",
        "<img src=\"attachment:figures/river_diagram.png\"\n",
        "alt=\"Schematic of the river system in Problem 1\" />\n",
        "<figcaption aria-hidden=\"true\">Schematic of the river system in Problem\n",
        "1</figcaption>\n",
        "</figure>"
      ]
    },
    {
      "cell_type": "markdown",
      "id": "b978e014-df49-4b50-89ba-f416bb8f6de5",
      "metadata": {},
      "source": [
        "**In this problem**:\n",
        "\n",
        "-   Assuming steady-state conditions, derive a model for the\n",
        "    concentration of CRUD downriver by solving the appropriate\n",
        "    differential equation(s) analytically.\n",
        "-   Determine if the system in compliance with a regulatory limit of 2.5\n",
        "    kg/(1000 m$^3$)."
      ]
    },
    {
      "cell_type": "markdown",
      "id": "c6056153",
      "metadata": {},
      "source": [
        "Define the variables of the system\n",
        "* $Q_0$ = $250000$ $\\mathrm{m}^{3}/day$, initial river flow rate\n",
        "* $C_0$ = $0.5$ $\\mathrm{kg}/{1000m}^{3}$, initial river CRUD concentration \n",
        "* $Q_1$ = $40000$ $\\mathrm{m}^{3}/day$, flow rate of source 1\n",
        "* $C_1$ = $9$ $\\mathrm{kg}/{1000m}^{3}$, CRUD concentration of source 1\n",
        "* $Q_2$ = $60000$ $\\mathrm{m}^{3}/day$, flow rate of source 2\n",
        "* $C_2$ = $7$ $\\mathrm{kg}/{1000m}^{3}$, CRUD concentration of source 2\n",
        "* $U$ = 10 $km/day$, river velocity\n",
        "* $k$ = $0.36$ ${day}^{-1}$, rate constant\n",
        "* $x$ = distance along river, also $15 km$ between source 1 and 2\n",
        "* $C_{\\text{R1}}$ = concentration when river meets source 1 after mixing\n",
        "* $Q_{\\text{R1}}$ = $Q_0 + Q_1$, flow rate at point $\\text{R1}$ between source 1 and before source 2\n",
        "* $C_{\\text{R2}}$ = concentration at second point of mixing when river meets source 2\n",
        "* $Q_{\\text{R2}}$ = $Q_0 + Q_1 + Q_2$ = $Q_{\\text{R1}} + Q_2$, flow rate at point $\\text{R2}$\n",
        "\n",
        "Develop the Model\n",
        "\n",
        "Considering the system is at steady-state:\n",
        "\n",
        "$\\frac{\\partial (Mass)}{\\partial t}$ = $Inputs - Outputs - Decay = 0$\n",
        "\n",
        "$\\frac{\\partial (CV)}{\\partial t}$ = $\\sum_{j}$ $PS_j$ $-$ $CQ_{\\text{out}}$ $-$ $\\alpha CV$ $=$ $0$\n",
        "\n",
        "$C(Q_{\\text{out}} $+$ \\alpha V)$ $=$  $\\sum_{j}$ $PS_j$\n",
        "\n",
        "$C =$ $\\frac{\\sum_{j} PS_j}{Q_{\\text{out}} + \\alpha V}$\n",
        "\n",
        "Now, consider the system in two parts and input the point source information. Subscript $R_1$ signifies the point after point source 1 is mixed but just before point source 2, so after 15km of decay down the river. The subscript $R_2$ signifies the second point of mixing at source 2 before any distance is passed.\n",
        "\n",
        "$C_{\\text{R1}} =$ $\\frac{Q_0C_0+Q_1C_1}{Q_{\\text{R1}} + \\alpha V}$\n",
        "\n",
        "$C_{\\text{R2}} =$ $\\frac{Q_{\\text{R1}}C_{\\text{R1}}+Q_2C_2}{Q_{\\text{R2}} + \\alpha V}$\n",
        "\n",
        "Assuming first order decay, replace $\\alpha$ with $e^{-kx/U}$ and replace volume V with Q*t so that our final concentration models are in terms of only unknown distance x:\n",
        "\n",
        "$C_{\\text{R1}} =$ $\\frac{Q_0C_0+Q_1C_1}{Q_{\\text{R1}} + e^{-kx/U} Q_{\\text{R1}}*t}$\n",
        "\n",
        "$C_{\\text{R2}} =$ $\\frac{Q_{\\text{R1}}C_{\\text{R1}}+Q_2C_2}{Q_{\\text{R2}} + e^{-kx/U} Q_{\\text{R2}}*t}$\n",
        "\n",
        "When solving for the out concentration, $C_{R2}$, we are looking at the concentration just after mixing. This means that the distance, x, in the decay term is 0 for our purposes but the model can be used to calculate the CRUD levels at any point downstream.\n",
        "\n",
        "Once all of these values are plugged in and solved the result is $C_{R1} = 0.0008923717107457972 kg/m^3$ and $C_{R2} = 0.001939393703189375 kg/m^3$\n"
      ]
    },
    {
      "cell_type": "code",
      "execution_count": 10,
      "id": "a5b4e65e",
      "metadata": {},
      "outputs": [
        {
          "name": "stdout",
          "output_type": "stream",
          "text": [
            "CR1 = 0.0008923717107457972\n",
            "CR2 = 0.001939393703189375\n"
          ]
        },
        {
          "data": {
            "text/plain": [
              "0.001939393703189375"
            ]
          },
          "metadata": {},
          "output_type": "display_data"
        }
      ],
      "source": [
        "# define the variables\n",
        "# C values are in kg/m3 and Q values are in m3/d\n",
        "k = 0.36    # decay constant\n",
        "\n",
        "# initial stream inputs\n",
        "C0 = 0.5/1000\n",
        "Q0 = 250000\n",
        "Q1 = 40000\n",
        "C1 = 9/1000\n",
        "\n",
        "QR1 = Q0 + Q1\n",
        "\n",
        "# calculate volume\n",
        "u = 10       # river velocity km/d\n",
        "x = 15    # distance between sources 1 and 2 (km)\n",
        "time = x/u\n",
        "Vol = QR1*time\n",
        "alpha = exp(-k*x/u)\n",
        "\n",
        "# calculate the concentration just before Source 2\n",
        "CR1 = ((Q0*C0)+(Q1*C1)) / (QR1+alpha*Vol)\n",
        "\n",
        "Q2 = 60000\n",
        "C2 = 7/1000\n",
        "\n",
        "# Calculate the concentration just after source 2\n",
        "QR2 = Q0+Q1+Q2\n",
        "CR2 = (CR1*QR1+Q2*C2) / (QR2)\n",
        "\n",
        "\n",
        "@show CR1\n",
        "@show CR2\n",
        "\n"
      ]
    },
    {
      "cell_type": "markdown",
      "id": "db07ee3e",
      "metadata": {},
      "source": [
        "Because $C_{\\text{R2}}$ = 0.00193 $\\mathrm{kg}/{m}^{3}$ = 1.93 $\\mathrm{kg}/{1000m}^{3}$, it falls under the regulatory limit of 2.5 $\\mathrm{kg}/{1000m}^{3}$."
      ]
    },
    {
      "cell_type": "markdown",
      "id": "e15c726e-992b-4910-bee8-3a5ca616a393",
      "metadata": {},
      "source": [
        "> **Tip**\n",
        ">\n",
        "> Formulate your model in terms of distance downriver, rather than\n",
        "> leaving it in terms of time from discharge.\n",
        "\n",
        "### Problem 2 (25 points)\n",
        "\n",
        "Consider the shallow lake model from class:\n",
        "\n",
        "$$\n",
        "\\begin{aligned}\n",
        "X_{t+1} &= X_t + a_t + y_t + \\frac{X_t^q}{1 + X_t^q} - bX_t, \\\\\n",
        "y_t &\\sim \\text{LogNormal}(\\mu, \\sigma^2),\n",
        "\\end{aligned}\n",
        "$$\n",
        "\n",
        "where:\n",
        "\n",
        "-   $X_t$ is the lake phosphorous (P) concentration at time $t$;\n",
        "-   $a_t$ is the point-source P release at time $t$;\n",
        "-   $y_t$ is the non-point-source P release at time $t$, which is\n",
        "    treated as random from a LogNormal distribution with mean $\\mu$ and\n",
        "    standard deviation $\\sigma$;\n",
        "-   $b$ is the linear rate of P outflow;\n",
        "-   $q$ is a parameter influencing the rate of P recycling from the\n",
        "    sediment.\n",
        "\n",
        "**In this problem**:\n",
        "\n",
        "-   Make an initial conditions plot for the model dynamics for $b=0.5$,\n",
        "    $q=1.5$, $y_t=0$, and $a_t=0$ for $t=0, \\ldots, 30$. What are the\n",
        "    equilibria? What can you say about the resilience of the system?\n",
        "\n",
        "    > **Finding equilibria**\n",
        "    >\n",
        "    > Use [`Roots.jl`](https://juliamath.github.io/Roots.jl/stable/) to\n",
        "    > find the equilibria by solving for values where $X_{t+1} = X_t$.\n",
        "    > For example, if you have functions `X_outflow(X,b)` and\n",
        "    > `X_recycling(X,q)`, you could create a function\n",
        "    > `X_delta(x, a) = a + X_recycling(x) - X_outflow(x)` and call\n",
        "    > `Roots.find_zero(x -> X_delta(x, a), x₀)`, where `x₀` is an\n",
        "    > initial value for the search (you might need to use your plot to\n",
        "    > find values for `x₀` near each of the “true” equilibria).\n",
        "\n",
        "-   Repeat the analysis with $a_t=0.02$ for all $t$. What are the new\n",
        "    equilibria? How have the dynamics and resilience of the system\n",
        "    changed?"
      ]
    },
    {
      "cell_type": "code",
      "execution_count": 28,
      "id": "bf844ac3",
      "metadata": {},
      "outputs": [
        {
          "name": "stdout",
          "output_type": "stream",
          "text": []
        }
      ],
      "source": [
        "b = 0.5\n",
        "q = 1.5\n",
        "y = 0\n",
        "a = 0\n",
        "\n",
        "#lecture material \n",
        "# define functions for lake recycling and outflows\n",
        "function X_recycling(X, q)\n",
        "    X_recycling = X.^q ./ (1 .+ X.^q)\n",
        "    return X_recycling\n",
        "end\n",
        "\n",
        "function X_outflow(X, b)\n",
        "    X_outflow = b .* X\n",
        "    return X_outflow\n",
        "end\n",
        "\n",
        "function X_delta(X,a)\n",
        "    X_delta = a + X_recycling(X,q) - X_outflow(X,b)\n",
        "    return X_delta\n",
        "end \n",
        "\n",
        "x01=0.2\n",
        "x02 = 2.4\n",
        "Roots.find_zero(x -> X_delta(x,a),x01) \n",
        "Roots.find_zero(x -> X_delta(x,a),x02) \n",
        "\n",
        "T = 30\n",
        "X_vals = collect(0.0:0.1:2.5)\n",
        "function simulate_lake_P(X_ic, T, b, q, a, y)\n",
        "    X = zeros(T)\n",
        "    X[1] = X_ic\n",
        "    for t = 2:T\n",
        "        X[t] = X[t-1] .+ a[t] .+ y[t].+ X_recycling(X[t-1], q) .- X_outflow(X[t-1], b)\n",
        "    end\n",
        "    return X\n",
        "end\n",
        "X = map(x -> simulate_lake_P(x, T, 0.5, 2.5, zeros(T), zeros(T)), X_vals)\n",
        "p_noinflow = plot(X, label=false, ylabel=L\"X_t\", xlabel=\"Time\", guidefontsize=18, tickfontsize=16, size=(600, 500), left_margin=5, bottom_margin=5)\n",
        "display(p_noinflow)\n",
        "\n",
        "\n",
        " "
      ]
    },
    {
      "cell_type": "markdown",
      "id": "e71b3287-535a-4575-9fc3-67603491f050",
      "metadata": {},
      "source": [
        "## References\n",
        "\n",
        "List any external references consulted, including classmates."
      ]
    },
    {
      "cell_type": "markdown",
      "id": "60c4f9f7",
      "metadata": {},
      "source": [
        "* https://opentextbc.ca/pressbooks/chapter/how-do-i-write-a-fraction-in-latex/ \n",
        "* https://tex.stackexchange.com/questions/225523/how-to-write-partial-differential-equation-ex-dq-dt-ds-dt-with-real-partial-d "
      ]
    }
  ],
  "metadata": {
    "kernel_info": {
      "name": "julia"
    },
    "kernelspec": {
      "display_name": "Julia 1.10.4",
      "language": "julia",
      "name": "julia-1.10"
    },
    "language_info": {
      "file_extension": ".jl",
      "mimetype": "application/julia",
      "name": "julia",
      "version": "1.10.4"
    }
  },
  "nbformat": 4,
  "nbformat_minor": 5
}
